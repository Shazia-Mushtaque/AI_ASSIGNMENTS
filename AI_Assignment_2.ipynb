{
 "cells": [
  {
   "cell_type": "markdown",
   "metadata": {},
   "source": [
    "1. Divisibility Check of two numbers\n",
    "Write a Python program to check whether a number is completely divisible by another number. Accept two integer values form the user\n",
    "\n",
    "Program Console Sample Output 1:\n",
    "Enter numerator: 4\n",
    "\n",
    "Enter Denominator: 2\n",
    "\n",
    "Number 4 is Completely divisible by 2\n",
    "\n",
    "Program Console Sample Output 2:\n",
    "Enter numerator: 7\n",
    "\n",
    "Enter Denominator: 4\n",
    "\n",
    "Number 7 is not Completely divisible by 4"
   ]
  },
  {
   "cell_type": "code",
   "execution_count": 1,
   "metadata": {},
   "outputs": [
    {
     "name": "stdout",
     "output_type": "stream",
     "text": [
      "Enter Numerator: 75\n",
      "Enter Denominator:4\n",
      "Remainder: 3\n",
      "Number 75 is not completely divisible by 4\n"
     ]
    }
   ],
   "source": [
    "num1 = int(input(\"Enter Numerator: \"))\n",
    "num2 = int(input(\"Enter Denominator:\"))\n",
    "\n",
    "answer = num1 % num2\n",
    "print (\"Remainder:\",answer)\n",
    "if answer == 0:\n",
    "    print(\"Number\" , num1 , \"is completely divisible by\" , num2)\n",
    "else : \n",
    "    print (\"Number\" , num1 , \"is not completely divisible by\" , num2)\n"
   ]
  },
  {
   "cell_type": "code",
   "execution_count": null,
   "metadata": {},
   "outputs": [],
   "source": [
    "2. Copy string n times\n",
    "Write a Python program to get a string which is n (non-negative integer) copies of a given string.\n",
    "\n",
    "Program Console Output:\n",
    "Enter String: Hi\n",
    "\n",
    "How many copies of String you need: 4\n",
    "\n",
    "4 Copies of Hi are HiHiHiHi"
   ]
  },
  {
   "cell_type": "markdown",
   "metadata": {},
   "source": [
    "string = input (\"Enter a String:\")\n",
    "ncopies = int(input (\"How many copies of String you need:\"))\n",
    "a = string * ncopies\n",
    "print (ncopies, \"Copies of\", string,  \"are\", a)\n"
   ]
  },
  {
   "cell_type": "code",
   "execution_count": 3,
   "metadata": {},
   "outputs": [
    {
     "name": "stdout",
     "output_type": "stream",
     "text": [
      "Enter a String:WOW!\n",
      "How many copies of String you need:5\n",
      "5 Copies of WOW! are\n",
      " WOW!WOW!WOW!WOW!WOW!\n"
     ]
    }
   ],
   "source": [
    "string = input (\"Enter a String:\")\n",
    "ncopies = int(input (\"How many copies of String you need:\"))\n",
    "a = string * ncopies\n",
    "print (ncopies, \"Copies of\", string,  \"are\\n\", a)\n"
   ]
  },
  {
   "cell_type": "markdown",
   "metadata": {},
   "source": [
    "3. Vowel Tester\n",
    "Write a Python program to test whether a passed letter is a vowel or not\n",
    "\n",
    "Program Console Output 1:\n",
    "Enter a character: A\n",
    "\n",
    "Letter A is Vowel\n",
    "\n",
    "Program Console Output 2:\n",
    "Enter a character: e\n",
    "\n",
    "Letter e is Vowel\n",
    "\n",
    "Program Console Output 2:\n",
    "Enter a character: N Letter N is not Vowel"
   ]
  },
  {
   "cell_type": "code",
   "execution_count": 4,
   "metadata": {},
   "outputs": [
    {
     "name": "stdout",
     "output_type": "stream",
     "text": [
      "Enter a letter:r\n",
      "Letter r is a consonant\n"
     ]
    }
   ],
   "source": [
    "letter = input (\"Enter a letter:\")\n",
    "\n",
    "if letter in ['a', 'e', 'i', 'o', 'u']:\n",
    "    print (\"Letter\", letter, \"is a vowel\")\n",
    "else:\n",
    "    print (\"Letter\", letter, \"is a consonant\")"
   ]
  },
  {
   "cell_type": "markdown",
   "metadata": {},
   "source": [
    "4. Odd No.s\n",
    "Use the third argument of the range() function to make a list of the odd numbers from 1 to 20. Use a for loop to print each number."
   ]
  },
  {
   "cell_type": "code",
   "execution_count": 5,
   "metadata": {},
   "outputs": [
    {
     "name": "stdout",
     "output_type": "stream",
     "text": [
      "3 5 7 9 11 13 15 17 19 "
     ]
    }
   ],
   "source": [
    "start, end = 3, 20\n",
    "  \n",
    "for num in range(start, end + 1): \n",
    "      \n",
    "    if num % 2 != 0: \n",
    "        print(num, end = \" \")"
   ]
  },
  {
   "cell_type": "markdown",
   "metadata": {},
   "source": [
    "5. Food Slicing\n",
    "Make a python program that contains your nine favourite dishes in a list called foods.Print the message,\n",
    "\n",
    "The first three items in the list are:\n",
    "\n",
    "Then use a slice to print the first three items from that program’s list.Print the message,\n",
    "\n",
    "Three items from the middle of the list are:\n",
    "\n",
    "Use a slice to print three items from the middle of the list.Print the message,\n",
    "\n",
    "The last three items in the list are:\n",
    "\n",
    "Use a slice to print the last three items in the list."
   ]
  },
  {
   "cell_type": "code",
   "execution_count": 8,
   "metadata": {},
   "outputs": [
    {
     "name": "stdout",
     "output_type": "stream",
     "text": [
      "The first three items in the list are: ['Pizza', 'Burger', 'Pasta']\n",
      "The middle three items in the list are: ['Biryani', 'Kebab', 'Tikka']\n",
      "The first three items in the list are: ['Naan', 'Salad', 'Beverages']\n"
     ]
    }
   ],
   "source": [
    "food = [\"Pizza\", \"Burger\", \"Pasta\", \"Biryani\", \"Kebab\", \"Tikka\", \"Naan\", \"Salad\", \"Beverages\"]\n",
    "\n",
    "print(\"The first three items in the list are:\", food[0:3])\n",
    "print(\"The middle three items in the list are:\",food[3:6])\n",
    "print(\"The first three items in the list are:\", food[6:])\n"
   ]
  },
  {
   "cell_type": "code",
   "execution_count": null,
   "metadata": {},
   "outputs": [],
   "source": []
  }
 ],
 "metadata": {
  "kernelspec": {
   "display_name": "Python 3",
   "language": "python",
   "name": "python3"
  },
  "language_info": {
   "codemirror_mode": {
    "name": "ipython",
    "version": 3
   },
   "file_extension": ".py",
   "mimetype": "text/x-python",
   "name": "python",
   "nbconvert_exporter": "python",
   "pygments_lexer": "ipython3",
   "version": "3.7.4"
  }
 },
 "nbformat": 4,
 "nbformat_minor": 2
}
