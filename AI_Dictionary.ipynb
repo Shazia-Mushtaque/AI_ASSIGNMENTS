{
 "cells": [
  {
   "cell_type": "markdown",
   "metadata": {},
   "source": [
    "Ex : 1\n",
    "Make a dictionary containing three major rivers and the country each river runs through. One key-value pair might be 'nile': 'egypt'.\n",
    "\n",
    "Use a loop to print a sentence about each river, such as The Nile runs through Egypt.\n",
    "Use a loop to print the name of each river included in the dictionary.\n",
    "Use a loop to print the name of each country included in the dictionary.\n",
    "OUTPUT :\n",
    "Nile runs through Egypt .\n",
    "\n",
    ". River - Nile\n",
    "\n",
    ". Location - Egypt\n",
    "\n",
    "Amazon runs through South America\n",
    "\n",
    ". River - Amazon\n",
    "\n",
    ". Location - South America\n",
    "\n",
    "AND SO ON ..."
   ]
  },
  {
   "cell_type": "code",
   "execution_count": 6,
   "metadata": {},
   "outputs": [
    {
     "name": "stdout",
     "output_type": "stream",
     "text": [
      "\n",
      "The Nile runs through Egypt.\n",
      "\n",
      ". River: - Nile\n",
      "\n",
      ". Location: - Egypt\n",
      "\n",
      "The Amazon runs through South America.\n",
      "\n",
      ". River: - Amazon\n",
      "\n",
      ". Location: - South America\n",
      "\n",
      "The Mississippi runs through United States.\n",
      "\n",
      ". River: - Mississippi\n",
      "\n",
      ". Location: - United States\n"
     ]
    }
   ],
   "source": [
    "rivers = {\n",
    "    'nile': 'egypt',\n",
    "    'amazon': 'south america',\n",
    "    'mississippi': 'united states',\n",
    "        }\n",
    "\n",
    "for river, country in rivers.items():\n",
    "    print(\"\\nThe \" + river.title() + \" runs through \" + country.title() + \".\")\n",
    "    print(\"\\n. River:\", \"- \" + river.title())\n",
    "    print(\"\\n. Location:\", \"- \" + country.title())\n",
    "    \n",
    "\n",
    "\n",
    "    "
   ]
  },
  {
   "cell_type": "markdown",
   "metadata": {},
   "source": [
    "Ex : 2a\n",
    "Use a dictionary to store information about a person you know.Store their first name, last name, age, and the city in which they live. You should have keys such as first_name, last_name, age, and city. Print each piece of information stored in your dictionary."
   ]
  },
  {
   "cell_type": "code",
   "execution_count": 7,
   "metadata": {},
   "outputs": [
    {
     "name": "stdout",
     "output_type": "stream",
     "text": [
      "Salman\n",
      "Ahmed\n",
      "43\n",
      "Lahore\n"
     ]
    }
   ],
   "source": [
    "person = {\n",
    "    'first_name': 'Salman',\n",
    "    'last_name': 'Ahmed',\n",
    "    'age': 43,\n",
    "    'city': 'Lahore',\n",
    "    }\n",
    "\n",
    "print(person['first_name'])\n",
    "print(person['last_name'])\n",
    "print(person['age'])\n",
    "print(person['city'])"
   ]
  },
  {
   "cell_type": "markdown",
   "metadata": {},
   "source": [
    "Ex : 2b\n",
    "Start with the program you wrote for Exercise 2a.Make two new dictionaries representing different people, and store all three dictionaries in a list called people. Loop through your list of people. As you loop through the list, print everything you know about each person."
   ]
  },
  {
   "cell_type": "code",
   "execution_count": 8,
   "metadata": {},
   "outputs": [
    {
     "name": "stdout",
     "output_type": "stream",
     "text": [
      "Salman Ahmed, of Lahore, is 43 years old.\n",
      "Rashid Jamil, of Larkana, is 35 years old.\n",
      "Noman Khan, of Quetta, is 58 years old.\n"
     ]
    }
   ],
   "source": [
    "# list for people\n",
    "people = []\n",
    "\n",
    "# Dictionary\n",
    "person = {\n",
    "    'first_name': 'salman',\n",
    "    'last_name': 'ahmed',\n",
    "    'age': 43,\n",
    "    'city': 'lahore',\n",
    "    }\n",
    "people.append(person)\n",
    "\n",
    "person = {\n",
    "    'first_name': 'rashid',\n",
    "    'last_name': 'jamil',\n",
    "    'age': 35,\n",
    "    'city': 'larkana',\n",
    "    }\n",
    "people.append(person)\n",
    "\n",
    "person = {\n",
    "    'first_name': 'noman',\n",
    "    'last_name': 'khan',\n",
    "    'age': 58,\n",
    "    'city': 'quetta',\n",
    "    }\n",
    "people.append(person)\n",
    "\n",
    "# Display all of the information in the dictionary.\n",
    "for person in people:\n",
    "    name = person['first_name'].title() + \" \" + person['last_name'].title()\n",
    "    age = str(person['age'])\n",
    "    city = person['city'].title()\n",
    "    \n",
    "    print(name + \", of \" + city + \", is \" + age + \" years old.\")"
   ]
  },
  {
   "cell_type": "markdown",
   "metadata": {},
   "source": [
    "Ex : 3\n",
    "Make a dictionary called cities. Use the names of three cities as keys in your dictionary. Create a dictionary of information about each city and include the country that the city is in, its approximate population, and one fact about that city. The keys for each city’s dictionary should be something like country, population, and fact. Print the name of each city and all of the information you have stored about it."
   ]
  },
  {
   "cell_type": "code",
   "execution_count": 9,
   "metadata": {},
   "outputs": [
    {
     "name": "stdout",
     "output_type": "stream",
     "text": [
      "\n",
      "Islamabad is in Pakistan.\n",
      "  It has a population of about 1433000 people.\n",
      "  The Faisal Mosque is interesting fact about this city.\n",
      "\n",
      "Doha is in Qatar.\n",
      "  It has a population of about 796947 people.\n",
      "  The Museum Of Islamic Arts is interesting fact about this city.\n",
      "\n",
      "London is in England.\n",
      "  It has a population of about 14040163 people.\n",
      "  The Big Ben is interesting fact about this city.\n"
     ]
    }
   ],
   "source": [
    "cities = {\n",
    "    'Islamabad': {\n",
    "        'country': 'Pakistan',\n",
    "        'population': 1433000,\n",
    "        'fact': 'Faisal Mosque',\n",
    "        },\n",
    "    'Doha': {\n",
    "        'country': 'Qatar',\n",
    "        'population': 796947,\n",
    "        'fact': 'Museum of Islamic Arts',\n",
    "        },\n",
    "    'London': {\n",
    "        'country': 'England',\n",
    "        'population': 14040163,\n",
    "        'fact': 'Big ben',\n",
    "        }\n",
    "    }\n",
    "\n",
    "for city, city_info in cities.items():\n",
    "    country = city_info['country'].title()\n",
    "    population = city_info['population']\n",
    "    fact = city_info['fact'].title()\n",
    "\n",
    "    print(\"\\n\" + city.title() + \" is in \" + country + \".\")\n",
    "    print(\"  It has a population of about \" + str(population) + \" people.\")\n",
    "    print(\"  The \" + fact + \" is interesting fact about this city.\")\n"
   ]
  },
  {
   "cell_type": "markdown",
   "metadata": {},
   "source": [
    "Ex : 4\n",
    "Write a Python script to concatenate following dictionaries to create a new one. Go to the editor\n",
    "\n",
    "OUTPUT\n",
    "Sample Dictionary :\n",
    "\n",
    "dic1={1:10, 2:20}\n",
    "\n",
    "dic2={3:30, 4:40}\n",
    "\n",
    "dic3={5:50,6:60}\n",
    "\n",
    "Expected Result : {1: 10, 2: 20, 3: 30, 4: 40, 5: 50, 6: 60}"
   ]
  },
  {
   "cell_type": "code",
   "execution_count": 10,
   "metadata": {},
   "outputs": [
    {
     "name": "stdout",
     "output_type": "stream",
     "text": [
      "{1: 10, 2: 20, 3: 30, 4: 40, 5: 50, 6: 60}\n"
     ]
    }
   ],
   "source": [
    "dic1={1:10, 2:20}  \n",
    "dic2={3:30, 4:40}  \n",
    "dic3={5:50,6:60}  \n",
    "dic4 = {}  \n",
    "for d in (dic1, dic2, dic3): dic4.update(d)  \n",
    "print(dic4)"
   ]
  },
  {
   "cell_type": "markdown",
   "metadata": {},
   "source": [
    "Ex : 5\n",
    "Write a Python program to create a dictionary from a string. Note: Track the count of the letters from the string.\n",
    "\n",
    "OUTPUT\n",
    "Sample string : 'Dictionaries'\n",
    "\n",
    "Expected output: {'D': 1, 'i': 3, 'c': 1, 't': 1, 'o': 1, 'n': 1, 'a': 1, 'r': 1 , 'e' : 1 , 's' : 1}"
   ]
  },
  {
   "cell_type": "code",
   "execution_count": 12,
   "metadata": {},
   "outputs": [
    {
     "name": "stdout",
     "output_type": "stream",
     "text": [
      "{'D': 1, 'i': 3, 'c': 1, 't': 1, 'o': 1, 'n': 1, 'a': 1, 'r': 1, 'e': 1, 's': 1}\n"
     ]
    }
   ],
   "source": [
    "sample_string= 'Dictionaries' \n",
    "string_dict = {}\n",
    "for letter in sample_string:\n",
    "    string_dict[letter] = string_dict.get(letter, 0) + 1\n",
    "print(string_dict)\n"
   ]
  },
  {
   "cell_type": "code",
   "execution_count": null,
   "metadata": {},
   "outputs": [],
   "source": []
  },
  {
   "cell_type": "markdown",
   "metadata": {},
   "source": [
    "Ex : 6\n",
    "Write a Python program to create a dictionary of keys x, y, and z where each key has as value a list from 11-20, 21-30, and 31-40 respectively. Access the fifth value of each key from the dictionary.\n",
    "\n",
    "OUTPUT\n",
    "{'x': [11, 12, 13, 14, 15, 16, 17, 18, 19],'y': [21, 22, 23, 24, 25, 26, 27, 28, 29],'z': [31, 32, 33, 34, 35, 36, 37, 38, 39]}\n",
    "\n",
    "15\n",
    "\n",
    "25\n",
    "\n",
    "35\n",
    "\n",
    "x has value [11, 12, 13, 14, 15, 16, 17, 18, 19]\n",
    "\n",
    "y has value [21, 22, 23, 24, 25, 26, 27, 28, 29]\n",
    "\n",
    "z has value [31, 32, 33, 34, 35, 36, 37, 38, 39]"
   ]
  },
  {
   "cell_type": "code",
   "execution_count": 15,
   "metadata": {},
   "outputs": [
    {
     "name": "stdout",
     "output_type": "stream",
     "text": [
      "{'x': [11, 12, 13, 14, 15, 16, 17, 18, 19],\n",
      " 'y': [21, 22, 23, 24, 25, 26, 27, 28, 29],\n",
      " 'z': [31, 32, 33, 34, 35, 36, 37, 38, 39]}\n",
      "15\n",
      "25\n",
      "35\n",
      "x has value [11, 12, 13, 14, 15, 16, 17, 18, 19]\n",
      "y has value [21, 22, 23, 24, 25, 26, 27, 28, 29]\n",
      "z has value [31, 32, 33, 34, 35, 36, 37, 38, 39]\n"
     ]
    }
   ],
   "source": [
    "from pprint import pprint\n",
    "dict_nums = dict(x=list(range(11, 20)), y=list(range(21, 30)), z=list(range(31, 40)))\n",
    "pprint(dict_nums)\n",
    "print(dict_nums[\"x\"][4])\n",
    "print(dict_nums[\"y\"][4])\n",
    "print(dict_nums[\"z\"][4])\n",
    "for k,v in dict_nums.items():\n",
    "   print(k, \"has value\", v)\n"
   ]
  },
  {
   "cell_type": "markdown",
   "metadata": {},
   "source": [
    "Ex : 7a\n",
    "Create a new dictionary called prices\n",
    "\n",
    "Put these values in your prices dictionary: \"banana\": 4, \"apple\": 2, \"orange\": 1.5, \"pear\": 3\n",
    "Loop through each key in prices. For each key, print out the key along with its price\n",
    "Check whether the topping is in the list . If yes , Recall the order else ask for another one .\n",
    "OUTPUT :\n",
    "banana\n",
    "price : 4\n",
    "apple\n",
    "price: 2"
   ]
  },
  {
   "cell_type": "code",
   "execution_count": 19,
   "metadata": {},
   "outputs": [
    {
     "name": "stdout",
     "output_type": "stream",
     "text": [
      "banana\n",
      "price: 4\n",
      "apple\n",
      "price: 2\n",
      "orange\n",
      "price: 1.5\n",
      "pear\n",
      "price: 3\n"
     ]
    }
   ],
   "source": [
    "prices = {\n",
    "    \"banana\": 4,\n",
    "    \"apple\": 2,\n",
    "    \"orange\": 1.5,\n",
    "    \"pear\": 3\n",
    "}\n",
    "for key in prices:\n",
    "    print (key)\n",
    "    print( \"price: %s\" % prices[key])\n"
   ]
  },
  {
   "cell_type": "markdown",
   "metadata": {},
   "source": [
    "Ex : 7b\n",
    "Let's determine how much money you would make if you sold all of your food.\n",
    "\n",
    "Create a variable called total and set it to zero.\n",
    "Loop through the prices dictionaries.For each key in prices, multiply the number in prices by the number in stock.\n",
    "Print that value into the console and then add it to total.\n",
    "Finally, outside your loop, print total."
   ]
  },
  {
   "cell_type": "code",
   "execution_count": 66,
   "metadata": {},
   "outputs": [
    {
     "name": "stdout",
     "output_type": "stream",
     "text": [
      "{'banana': 4, 'apple': 2, 'orange': 1.5, 'pear': 3} \n",
      " {'banana': 6, 'apple': 0, 'orange': 32, 'pear': 15}\n",
      "banana 24\n",
      "apple 0\n",
      "orange 48.0\n",
      "pear 45\n",
      "Total =  117.0\n"
     ]
    }
   ],
   "source": [
    "prices = {\n",
    "    \"banana\": 4,\n",
    "    \"apple\": 2,\n",
    "    \"orange\": 1.5,\n",
    "    \"pear\": 3\n",
    "}\n",
    "stock = {\n",
    "    \"banana\": 6,\n",
    "    \"apple\": 0,\n",
    "    \"orange\": 32,\n",
    "    \"pear\": 15\n",
    "}\n",
    "    \n",
    "print (prices, \"\\n\",stock)\n",
    "    \n",
    "total = 0\n",
    "for key in prices:\n",
    "    print (key,prices[key] * stock[key])\n",
    "    total = total + prices[key] * stock[key]\n",
    "\n",
    "print (\"Total = \",total)"
   ]
  },
  {
   "cell_type": "markdown",
   "metadata": {},
   "source": [
    "Ex : 8 (OPTIONAL)\n",
    "\n",
    "Count the number of occurrence of each letter in word \"MISSISSIPPI\". Store count of every letter with the letter in a dictionary."
   ]
  },
  {
   "cell_type": "code",
   "execution_count": 69,
   "metadata": {},
   "outputs": [
    {
     "name": "stdout",
     "output_type": "stream",
     "text": [
      "{'M': 1, 'I': 4, 'S': 4, 'P': 2}\n"
     ]
    }
   ],
   "source": [
    "count = {\"M\":0,\"I\":0,\"S\":0,\"P\":0}\n",
    "word = \"MISSISSIPPI\"\n",
    "for i in word:\n",
    "    if i == \"M\":\n",
    "        count['M'] = count['M']+1\n",
    "    elif i == \"I\":\n",
    "        count['I'] = count['I']+1\n",
    "    elif i == \"S\":\n",
    "        count['S'] = count['S']+1\n",
    "    elif i == \"P\":\n",
    "        count['P'] = count['P']+1\n",
    "print (count)"
   ]
  },
  {
   "cell_type": "markdown",
   "metadata": {},
   "source": [
    "Ex : 9\n",
    "Given a dictionary, the task is to filter all the negative values from given dictionary dict = {'a':1, 'b':-2, 'c':-3, 'd':7, 'e':0}\n",
    "\n",
    "OUTPUT :\n",
    "resultant dictionary : {'a': 1, 'd': 7, 'e': 0}"
   ]
  },
  {
   "cell_type": "code",
   "execution_count": 91,
   "metadata": {},
   "outputs": [],
   "source": [
    "dict = {'a':1, 'b':-2, 'c':-3, 'd':7, 'e':0}\n",
    "\n"
   ]
  },
  {
   "cell_type": "markdown",
   "metadata": {},
   "source": [
    "EX : 10\n",
    "Given a Dictionary. The task is to print the dictionary in the table format.\n",
    "\n",
    "Input:\n",
    "{1: [“Samuel”, 21, ‘Data Structures’],2: [“Richie”, 20, ‘Machine Learning’],3: [“Lauren”, 21, ‘OOPS with java’],}\n",
    "\n",
    "Output:\n",
    "image.png"
   ]
  },
  {
   "cell_type": "code",
   "execution_count": 70,
   "metadata": {},
   "outputs": [
    {
     "name": "stdout",
     "output_type": "stream",
     "text": [
      "NAME       AGE        COURSE    \n",
      "Samuel     21         Data Structures\n",
      "Richie     20         Machine Learning\n",
      "Lauren     21         OOPS with java\n"
     ]
    }
   ],
   "source": [
    "# Defining the dictionary \n",
    "dict ={} \n",
    "  \n",
    "# Inserting data into dicitonary \n",
    "dict1 = {1: [\"Samuel\", 21, 'Data Structures'], \n",
    "     2: [\"Richie\", 20, 'Machine Learning'], \n",
    "     3: [\"Lauren\", 21, 'OOPS with java'], \n",
    "     } \n",
    "  \n",
    "# Printing the names of the columns. \n",
    "print (\"{:<10} {:<10} {:<10}\".format('NAME', 'AGE', 'COURSE')) \n",
    "  \n",
    "# printing each data item. \n",
    "for key, value in dict1.items(): \n",
    "    name, age, course = value \n",
    "    print (\"{:<10} {:<10} {:<10}\".format(name, age, course)) "
   ]
  },
  {
   "cell_type": "code",
   "execution_count": null,
   "metadata": {},
   "outputs": [],
   "source": []
  }
 ],
 "metadata": {
  "kernelspec": {
   "display_name": "Python 3",
   "language": "python",
   "name": "python3"
  },
  "language_info": {
   "codemirror_mode": {
    "name": "ipython",
    "version": 3
   },
   "file_extension": ".py",
   "mimetype": "text/x-python",
   "name": "python",
   "nbconvert_exporter": "python",
   "pygments_lexer": "ipython3",
   "version": "3.7.4"
  }
 },
 "nbformat": 4,
 "nbformat_minor": 2
}
