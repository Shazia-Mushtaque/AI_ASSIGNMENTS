{
 "cells": [
  {
   "cell_type": "code",
   "execution_count": 1,
   "metadata": {},
   "outputs": [
    {
     "name": "stdout",
     "output_type": "stream",
     "text": [
      "Shazia\n",
      "M. Mushatque\n",
      "Islam\n",
      "Pakistani\n",
      "3456523345\n",
      "92-213445431\n"
     ]
    }
   ],
   "source": [
    "#Python Assignment-1\n",
    "#Initializing values in variables\n",
    "\n",
    "Name = (\"Shazia\")\n",
    "F_Name = (\"M. Mushatque\")\n",
    "Religion = (\"Islam\")\n",
    "Nationality = (\"Pakistani\")\n",
    "Phone_No = (3456523345)\n",
    "PTCL_No = (\"92-213445431\")\n",
    "#Printing values from variables\n",
    "print (Name)\n",
    "print (F_Name)\n",
    "print (Religion)\n",
    "print (Nationality)\n",
    "print (Phone_No)\n",
    "print (PTCL_No)\n"
   ]
  },
  {
   "cell_type": "code",
   "execution_count": null,
   "metadata": {},
   "outputs": [],
   "source": []
  }
 ],
 "metadata": {
  "kernelspec": {
   "display_name": "Python 3",
   "language": "python",
   "name": "python3"
  },
  "language_info": {
   "codemirror_mode": {
    "name": "ipython",
    "version": 3
   },
   "file_extension": ".py",
   "mimetype": "text/x-python",
   "name": "python",
   "nbconvert_exporter": "python",
   "pygments_lexer": "ipython3",
   "version": "3.7.4"
  }
 },
 "nbformat": 4,
 "nbformat_minor": 2
}
